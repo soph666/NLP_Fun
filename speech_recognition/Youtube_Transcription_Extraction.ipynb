{
 "cells": [
  {
   "cell_type": "code",
   "execution_count": 47,
   "id": "e8f72a74",
   "metadata": {},
   "outputs": [],
   "source": [
    "import speech_recognition as sr\n",
    "from youtube_transcript_api import YouTubeTranscriptApi\n",
    "from pytube import YouTube\n",
    "from pydub import AudioSegment\n",
    "import copy\n",
    "import os\n"
   ]
  },
  {
   "cell_type": "markdown",
   "id": "8844a883",
   "metadata": {},
   "source": [
    "Extract transcription in two ways\n",
    "\n",
    "- direct from closed caption\n",
    "- from video "
   ]
  },
  {
   "cell_type": "code",
   "execution_count": 48,
   "id": "e9da4907",
   "metadata": {},
   "outputs": [],
   "source": [
    "def extract_cc(url):\n",
    "    transcript = YouTubeTranscriptApi.get_transcript(url[17:])\n",
    "    return ' '.join([i['text'] for i in transcript])\n",
    "\n",
    "def audio_extraction(url):\n",
    "    ydl_opts = {\n",
    "        'format': 'bestaudio/best',\n",
    "        'postprocessors': [{\n",
    "            'key': 'FFmpegExtractAudio',\n",
    "            'preferredcodec': 'mp3',\n",
    "            'preferredquality': '192',\n",
    "        }],\n",
    "    }\n",
    "    with youtube_dl.YoutubeDL(ydl_opts) as ydl:\n",
    "        ydl.download([url])\n",
    "    title = YouTube(url).title\n",
    "    print(title)\n",
    "    urls_list = copy.copy(url)\n",
    "    print(urls_list)\n",
    "    u = urls_list.split('/')[-1]\n",
    "    return title+\"-\" +u+\".mp3\"\n",
    "    \n",
    "def speech_recognition(audio_file):\n",
    "    r = sr.Recognizer()\n",
    "    clip = sr.AudioFile(audio_file)\n",
    "    return clip\n",
    "    \n",
    "def extract_transcription(url):\n",
    "    input_file = audio_extraction(url)\n",
    "    output_file = \"result.wav\"\n",
    "    sound = AudioSegment.from_mp3(input_file)\n",
    "    sound.export(output_file, format=\"wav\")\n",
    "    clip = speech_recognition(output_file)\n",
    "    with clip as source:\n",
    "        audio = r.record(source)\n",
    "    os.remove(output_file)\n",
    "    os.remove(input_file)\n",
    "    return r.recognize_google(audio)"
   ]
  },
  {
   "cell_type": "code",
   "execution_count": 49,
   "id": "14856b2c",
   "metadata": {},
   "outputs": [
    {
     "data": {
      "text/plain": [
       "\"this dash cam video captured the moment the bombs hit striking a residential neighborhood in this north ukrainian city witnesses said the targets included apartment buildings and a hospital more than 30 people were killed this nearby school was also hit by one of around 500 rockets american officials say russia has fired over the past week they can hit anywhere and there is no location here which where you can feel safe this security analyst lives in ukraine's second largest city she recorded these videos and told global news they've lost electricity and are running out of food there is no possibility to leave the city in a safe manner because the the whole city is under the constant bombardment but she and other civilians may soon have a chance to escape ukrainian officials met their russian counterparts for a second day of negotiations and agreed to create humanitarian corridors for civilians to get out and aid to get in the ukrainian president called on vladimir putin to meet with him to negotiate an end to the invasion russia's missile and bomb strikes are a confession that they have failed to do anything substantial on our soil he said but others don't share that optimism explosions heard from kiev are growing louder as the russian military inches closer to the ukrainian capital the russian president told his security council the military operation is going according to plan the next 24 to 96 hours are going to be very telling about really the emerging russian strategy about 90 percent of the russian forces that had massed around ukraine are now reportedly inside the country if the ukrainian resistance stiffens this is going to get extraordinarily bloody and we're talking thousands if not tens of thousands of casualties jeff semple global news\""
      ]
     },
     "execution_count": 49,
     "metadata": {},
     "output_type": "execute_result"
    }
   ],
   "source": [
    "extract_cc(\"https://youtu.be/C1cEWlhMz0w\")"
   ]
  },
  {
   "cell_type": "code",
   "execution_count": 50,
   "id": "446a588d",
   "metadata": {},
   "outputs": [
    {
     "name": "stdout",
     "output_type": "stream",
     "text": [
      "[youtube] C1cEWlhMz0w: Downloading webpage\n",
      "[download] Destination: Russia steps up bombardment of Ukraine’s largest cities-C1cEWlhMz0w.m4a\n",
      "[download] 100% of 1.99MiB in 00:2565KiB/s ETA 00:009\n",
      "[ffmpeg] Correcting container in \"Russia steps up bombardment of Ukraine’s largest cities-C1cEWlhMz0w.m4a\"\n",
      "[ffmpeg] Destination: Russia steps up bombardment of Ukraine’s largest cities-C1cEWlhMz0w.mp3\n",
      "Deleting original file Russia steps up bombardment of Ukraine’s largest cities-C1cEWlhMz0w.m4a (pass -k to keep)\n",
      "Russia steps up bombardment of Ukraine’s largest cities\n",
      "https://youtu.be/C1cEWlhMz0w\n"
     ]
    },
    {
     "data": {
      "text/plain": [
       "\"this dashcam video captured the moment the bombs hit striking a residential neighbourhood in this North Ukrainian city is nearby school was also hit by one of around 500 Rockets American officials say Russia has fired over the past week and told global news they've lost electricity and are running out of food to create humanitarian corridors for civilians to get out and Aid to get in\""
      ]
     },
     "execution_count": 50,
     "metadata": {},
     "output_type": "execute_result"
    }
   ],
   "source": [
    "extract_transcription(\"https://youtu.be/C1cEWlhMz0w\")"
   ]
  }
 ],
 "metadata": {
  "kernelspec": {
   "display_name": "Python 3",
   "language": "python",
   "name": "python3"
  },
  "language_info": {
   "codemirror_mode": {
    "name": "ipython",
    "version": 3
   },
   "file_extension": ".py",
   "mimetype": "text/x-python",
   "name": "python",
   "nbconvert_exporter": "python",
   "pygments_lexer": "ipython3",
   "version": "3.8.8"
  }
 },
 "nbformat": 4,
 "nbformat_minor": 5
}
