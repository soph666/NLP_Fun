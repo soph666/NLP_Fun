{
 "cells": [
  {
   "cell_type": "code",
   "execution_count": null,
   "id": "c65d8ace",
   "metadata": {},
   "outputs": [],
   "source": [
    "import torch\n",
    "import torchaudio\n"
   ]
  },
  {
   "cell_type": "markdown",
   "id": "4287f172",
   "metadata": {},
   "source": [
    "Data Augmentation is added to your dataset to create more samples, and provide a variety to avoid overfitting. For speech recognition, we can alter:\n",
    "- pitch\n",
    "- speed\n",
    "- injection of noise\n",
    "- reverb\n",
    "- specAugment (https://arxiv.org/abs/1904.08779?undefined)\n",
    "    -- simply cutting out random blocks of consecutive time and frequency dimensions improved the models generalization abilities significantly\n"
   ]
  }
 ],
 "metadata": {
  "kernelspec": {
   "display_name": "Python 3",
   "language": "python",
   "name": "python3"
  },
  "language_info": {
   "codemirror_mode": {
    "name": "ipython",
    "version": 3
   },
   "file_extension": ".py",
   "mimetype": "text/x-python",
   "name": "python",
   "nbconvert_exporter": "python",
   "pygments_lexer": "ipython3",
   "version": "3.8.8"
  }
 },
 "nbformat": 4,
 "nbformat_minor": 5
}
