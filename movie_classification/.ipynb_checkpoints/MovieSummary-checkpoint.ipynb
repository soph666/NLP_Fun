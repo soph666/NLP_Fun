{
 "cells": [
  {
   "cell_type": "code",
   "execution_count": 1,
   "id": "29d272e6",
   "metadata": {},
   "outputs": [],
   "source": [
    "import pandas as pd"
   ]
  },
  {
   "cell_type": "code",
   "execution_count": null,
   "id": "91fccc8a",
   "metadata": {},
   "outputs": [],
   "source": [
    "!pip install SpeechRecognition"
   ]
  },
  {
   "cell_type": "code",
   "execution_count": 6,
   "id": "55c7cdd2",
   "metadata": {},
   "outputs": [
    {
     "data": {
      "application/vnd.jupyter.widget-view+json": {
       "model_id": "e439e610de7946d8a33049f9ea7a9152",
       "version_major": 2,
       "version_minor": 0
      },
      "text/plain": [
       "  0%|          | 0.00/5.95G [00:00<?, ?B/s]"
      ]
     },
     "metadata": {},
     "output_type": "display_data"
    },
    {
     "data": {
      "application/vnd.jupyter.widget-view+json": {
       "model_id": "8ceb1e1acbb04d32b5789c905016110d",
       "version_major": 2,
       "version_minor": 0
      },
      "text/plain": [
       "  0%|          | 0.00/331M [00:00<?, ?B/s]"
      ]
     },
     "metadata": {},
     "output_type": "display_data"
    }
   ],
   "source": [
    "import torchaudio\n",
    "\n",
    "train_dataset = torchaudio.datasets.LIBRISPEECH(\"./\", url=\"train-clean-100\", download=True)\n",
    "test_dataset = torchaudio.datasets.LIBRISPEECH(\"./\", url=\"test-clean\", download=True)"
   ]
  },
  {
   "cell_type": "code",
   "execution_count": 7,
   "id": "fa5d0d0d",
   "metadata": {},
   "outputs": [
    {
     "data": {
      "text/plain": [
       "0        Now, I won't deny that when I purchased this o...\n",
       "1        The saddest thing about this \"tribute\" is that...\n",
       "2        Last night I decided to watch the prequel or s...\n",
       "3        I have to admit that i liked the first half of...\n",
       "4        I was not impressed about this film especially...\n",
       "                               ...                        \n",
       "24995    This film is fun, if your a person who likes a...\n",
       "24996    After seeing this film I feel like I know just...\n",
       "24997    first this deserves about 5 stars due to actin...\n",
       "24998    If you like films that ramble with little plot...\n",
       "24999    As interesting as a sheet of cardboard, this d...\n",
       "Name: text, Length: 25000, dtype: object"
      ]
     },
     "execution_count": 7,
     "metadata": {},
     "output_type": "execute_result"
    }
   ],
   "source": [
    "pd.read_csv('train.csv')['text']"
   ]
  },
  {
   "cell_type": "code",
   "execution_count": 9,
   "id": "50003528",
   "metadata": {},
   "outputs": [],
   "source": [
    "import speech_recognition as sr"
   ]
  },
  {
   "cell_type": "code",
   "execution_count": 10,
   "id": "2ed5fb4f",
   "metadata": {},
   "outputs": [],
   "source": [
    "r = sr.Recognizer()"
   ]
  },
  {
   "cell_type": "code",
   "execution_count": null,
   "id": "2dc55e90",
   "metadata": {},
   "outputs": [],
   "source": [
    "r.recognize_google()\n",
    "harvard = sr.AudioFile('harvard.wav')"
   ]
  },
  {
   "cell_type": "code",
   "execution_count": null,
   "id": "e0c4927d",
   "metadata": {},
   "outputs": [],
   "source": [
    "with harvard as source:\n",
    "    audio = r.record(source)"
   ]
  }
 ],
 "metadata": {
  "kernelspec": {
   "display_name": "Python 3",
   "language": "python",
   "name": "python3"
  },
  "language_info": {
   "codemirror_mode": {
    "name": "ipython",
    "version": 3
   },
   "file_extension": ".py",
   "mimetype": "text/x-python",
   "name": "python",
   "nbconvert_exporter": "python",
   "pygments_lexer": "ipython3",
   "version": "3.8.8"
  }
 },
 "nbformat": 4,
 "nbformat_minor": 5
}
