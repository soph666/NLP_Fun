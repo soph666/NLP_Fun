{
 "cells": [
  {
   "cell_type": "code",
   "execution_count": 37,
   "id": "dbed3dd0",
   "metadata": {},
   "outputs": [],
   "source": [
    "import speech_recognition as sr\n",
    "from youtube_transcript_api import YouTubeTranscriptApi\n",
    "from pytube import YouTube\n",
    "import youtube_dl\n",
    "from pydub import AudioSegment\n",
    "import copy\n",
    "import os\n",
    "from transformers import pipeline\n",
    "import math"
   ]
  },
  {
   "cell_type": "code",
   "execution_count": 42,
   "id": "56b35da3",
   "metadata": {},
   "outputs": [],
   "source": [
    "def extract_cc(url):\n",
    "    \"\"\"\n",
    "    Extract closed caption using built-in API and joining lines\n",
    "    \n",
    "    \"\"\"\n",
    "    transcript = YouTubeTranscriptApi.get_transcript(url[17:])\n",
    "    return ' '.join([i['text'] for i in transcript])\n",
    "\n",
    "def audio_extraction(url):\n",
    "    \"\"\"\n",
    "    Extract audio from youtube videos to be processed for speech recognition\n",
    "    \n",
    "    \"\"\"\n",
    "    ydl_opts = {\n",
    "        'format': 'bestaudio/best',\n",
    "        'postprocessors': [{\n",
    "            'key': 'FFmpegExtractAudio',\n",
    "            'preferredcodec': 'mp3',\n",
    "            'preferredquality': '192',\n",
    "        }],\n",
    "    }\n",
    "    with youtube_dl.YoutubeDL(ydl_opts) as ydl:\n",
    "        ydl.download([url])\n",
    "    title = YouTube(url).title\n",
    "    print(title)\n",
    "    urls_list = copy.copy(url)\n",
    "    print(urls_list)\n",
    "    u = urls_list.split('/')[-1]\n",
    "    return title+\"-\" +u+\".mp3\"\n",
    "    \n",
    "def speech_recognition(audio_file):\n",
    "    \"\"\"\n",
    "    Transcribe extracted youtube video audio file\n",
    "    \n",
    "    \"\"\"\n",
    "    r = sr.Recognizer()\n",
    "    clip = sr.AudioFile(audio_file)\n",
    "    with clip as source:\n",
    "        r.adjust_for_ambient_noise(source)\n",
    "        audio = r.record(source)\n",
    "    return r.recognize_google(audio)\n",
    "    \n",
    "def extract_transcription(url):\n",
    "    \"\"\"\n",
    "    Convert Youtube mp3 to wav to be transcribed\n",
    "    \n",
    "    \"\"\"\n",
    "    input_file = audio_extraction(url)\n",
    "    output_file = \"result.wav\"\n",
    "    sound = AudioSegment.from_mp3(input_file)\n",
    "    sound.export(output_file, format=\"wav\")\n",
    "    transcript = speech_recognition(output_file)\n",
    "    os.remove(output_file)\n",
    "    os.remove(input_file)\n",
    "    return transcript\n",
    "\n",
    "def summarizer(url, model = 'transformers'):\n",
    "    \n",
    "    try:\n",
    "        text = extract_cc(url)\n",
    "    except:\n",
    "        text = extract_transcription(url)\n",
    "    \n",
    "    n = int(math.log(len(text.split())))*120\n",
    "    \n",
    "    summarizer = pipeline(\"summarization\", model=\"t5-base\", tokenizer=\"t5-base\", framework=\"tf\")\n",
    "    summary_text = summarizer(text, max_length=n, min_length=5, do_sample=False)[0]['summary_text']\n",
    "    return summary_text\n"
   ]
  },
  {
   "cell_type": "code",
   "execution_count": 43,
   "id": "052e4374",
   "metadata": {},
   "outputs": [
    {
     "name": "stderr",
     "output_type": "stream",
     "text": [
      "All model checkpoint layers were used when initializing TFT5ForConditionalGeneration.\n",
      "\n",
      "All the layers of TFT5ForConditionalGeneration were initialized from the model checkpoint at t5-base.\n",
      "If your task is similar to the task the model of the checkpoint was trained on, you can already use TFT5ForConditionalGeneration for predictions without further training.\n",
      "Token indices sequence length is longer than the specified maximum sequence length for this model (1699 > 512). Running this sequence through the model will result in indexing errors\n"
     ]
    },
    {
     "data": {
      "text/plain": [
       "\"ukraine says it has liberated the area surrounding kiev as russia's forces retreat . ukrainian president vladimir zelinski warns this could be the start of a russian offensive to seize the east and south of the country . disturbing reports of civilian deaths are being reported in kievan and chernhiv . andre soldatov is an investigative journalist in vienna who is also an expert on russia .\""
      ]
     },
     "execution_count": 43,
     "metadata": {},
     "output_type": "execute_result"
    }
   ],
   "source": [
    "# text = extract_cc(\"https://youtu.be/DfzK4zJShZM\")\n",
    "summarizer(\"https://youtu.be/DfzK4zJShZM\")"
   ]
  },
  {
   "cell_type": "code",
   "execution_count": null,
   "id": "460619b6",
   "metadata": {},
   "outputs": [],
   "source": []
  },
  {
   "cell_type": "code",
   "execution_count": null,
   "id": "322e78b2",
   "metadata": {},
   "outputs": [],
   "source": []
  }
 ],
 "metadata": {
  "kernelspec": {
   "display_name": "Python 3",
   "language": "python",
   "name": "python3"
  },
  "language_info": {
   "codemirror_mode": {
    "name": "ipython",
    "version": 3
   },
   "file_extension": ".py",
   "mimetype": "text/x-python",
   "name": "python",
   "nbconvert_exporter": "python",
   "pygments_lexer": "ipython3",
   "version": "3.8.8"
  }
 },
 "nbformat": 4,
 "nbformat_minor": 5
}
